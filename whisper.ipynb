{
  "nbformat": 4,
  "nbformat_minor": 0,
  "metadata": {
    "colab": {
      "provenance": [],
      "collapsed_sections": [],
      "include_colab_link": true
    },
    "kernelspec": {
      "name": "python3",
      "display_name": "Python 3"
    },
    "language_info": {
      "name": "python"
    },
    "accelerator": "GPU"
  },
  "cells": [
    {
      "cell_type": "markdown",
      "metadata": {
        "id": "view-in-github",
        "colab_type": "text"
      },
      "source": [
        "<a href=\"https://colab.research.google.com/github/jrleonett/Whisper/blob/main/whisper.ipynb\" target=\"_parent\"><img src=\"https://colab.research.google.com/assets/colab-badge.svg\" alt=\"Open In Colab\"/></a>"
      ]
    },
    {
      "cell_type": "markdown",
      "source": [
        "# 【Master】 whisper-mock\n",
        "Whisper is a general-purpose speech recognition model open-sourced by OpenAI.\n",
        "\n",
        "## 📖 How to use\n",
        "1. Run \"Setting up\".\n",
        "2. Open the folder icon from the left sidebar.\n",
        "3. Upload audio files into the `content`.\n",
        "4. Input the audio file name into `fileName`.\n",
        "5. Select output language.\n",
        "5. Run \"Transcription\"."
      ],
      "metadata": {
        "id": "zw5ButypVydc"
      }
    },
    {
      "cell_type": "code",
      "execution_count": 1,
      "metadata": {
        "id": "XWIl4Ys54Ce6",
        "cellView": "form",
        "outputId": "b5fd8732-45ac-4a03-d68f-10c78fae43a3",
        "colab": {
          "base_uri": "https://localhost:8080/"
        }
      },
      "outputs": [
        {
          "output_type": "stream",
          "name": "stdout",
          "text": [
            "Reading package lists... Done\n",
            "Building dependency tree       \n",
            "Reading state information... Done\n",
            "23 packages can be upgraded. Run 'apt list --upgradable' to see them.\n",
            "Reading package lists... Done\n",
            "Building dependency tree       \n",
            "Reading state information... Done\n",
            "ffmpeg is already the newest version (7:3.4.11-0ubuntu0.1).\n",
            "The following package was automatically installed and is no longer required:\n",
            "  libnvidia-common-460\n",
            "Use 'sudo apt autoremove' to remove it.\n",
            "0 upgraded, 0 newly installed, 0 to remove and 23 not upgraded.\n"
          ]
        }
      ],
      "source": [
        "#@title Setting up\n",
        "# Install packages\n",
        "!pip install git+https://github.com/openai/whisper.git\n",
        "!sudo apt update\n",
        "!sudo apt install ffmpeg\n",
        "\n",
        "import os\n",
        "\n",
        "# Add folders\n",
        "checkContentFolder = os.path.exists(\"content\")\n",
        "checkDownLoadFolder = os.path.exists(\"download\")\n",
        "if not checkContentFolder:\n",
        "  os.mkdir(\"content\")\n",
        "if not checkDownLoadFolder:\n",
        "  os.mkdir(\"download\")"
      ]
    },
    {
      "cell_type": "code",
      "source": [
        "#@title Transcription\n",
        "import whisper\n",
        "\n",
        "fileNmae = \"input.mp3\"#@param {type:\"string\"}\n",
        "lang = \"es\" #@param [\"es\", \"ja\"]\n",
        "model = whisper.load_model(\"base\")\n",
        "\n",
        "# Load audio\n",
        "audio = whisper.load_audio(f\"content/{fileNmae}\")\n",
        "audio = whisper.pad_or_trim(audio)\n",
        "\n",
        "mel = whisper.log_mel_spectrogram(audio).to(model.device)\n",
        "\n",
        "# Output the recognized text\n",
        "options = whisper.DecodingOptions(language=lang, without_timestamps=True)\n",
        "result = whisper.decode(model, mel, options)\n",
        "print(result.text)\n",
        "\n",
        "# Write into a text file\n",
        "with open(f\"download/{fileNmae}.txt\", \"w\") as f:\n",
        "  f.write(f\"▼ Transcription of {fileNmae}\\n\")\n",
        "  f.write(result.text)"
      ],
      "metadata": {
        "id": "scAiM8ug_s1M",
        "cellView": "form",
        "outputId": "6a9824df-65fa-4440-f112-88b45af51511",
        "colab": {
          "base_uri": "https://localhost:8080/"
        }
      },
      "execution_count": 3,
      "outputs": [
        {
          "output_type": "stream",
          "name": "stdout",
          "text": [
            "Hola, mi nombre es Jaime Reserpo y quiero contarles que el próximo año en el vejectubre estaré participando de López Hacim Guatemala. Quiero verlos por allá, a Nivencint.\n"
          ]
        }
      ]
    },
    {
      "cell_type": "code",
      "source": [
        "#@title Download a transcription file\n",
        "from google.colab import files\n",
        "!zip -r download.zip download\n",
        "files.download(\"download.zip\")"
      ],
      "metadata": {
        "id": "fKEdUXyRrDIE"
      },
      "execution_count": null,
      "outputs": []
    }
  ]
}