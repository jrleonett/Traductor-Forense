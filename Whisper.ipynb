{
  "nbformat": 4,
  "nbformat_minor": 0,
  "metadata": {
    "colab": {
      "provenance": [],
      "collapsed_sections": [],
      "authorship_tag": "ABX9TyNaTLFtUh5Cp+XKDREczRkE",
      "include_colab_link": true
    },
    "kernelspec": {
      "name": "python3",
      "display_name": "Python 3"
    },
    "language_info": {
      "name": "python"
    },
    "accelerator": "GPU"
  },
  "cells": [
    {
      "cell_type": "markdown",
      "metadata": {
        "id": "view-in-github",
        "colab_type": "text"
      },
      "source": [
        "<a href=\"https://colab.research.google.com/github/jrleonett/Whisper/blob/main/Whisper.ipynb\" target=\"_parent\"><img src=\"https://colab.research.google.com/assets/colab-badge.svg\" alt=\"Open In Colab\"/></a>"
      ]
    },
    {
      "cell_type": "markdown",
      "source": [
        "“Whisper” es una red neuronal desarrollada por OpenAI que convierte el habla conversacional en texto. Tiene robustez y precisión a nivel humano en el reconocimiento de voz en inglés. Un conjunto de datos supervisado grande y diverso mejora la solidez frente a los acentos, el ruido de fondo y la jerga.\n",
        "\n",
        "https://github.com/openai/whisper"
      ],
      "metadata": {
        "id": "8QMq2zIzF1pG"
      }
    },
    {
      "cell_type": "code",
      "source": [
        "#@title [01] Instalación del paquete\n",
        "!pip install git+https://github.com/openai/whisper.git\n",
        "!sudo apt update\n",
        "!sudo apt install ffmpeg\n",
        "import os\n",
        "# Crecación de las carpetas en CARGAR deberá de colocar su archivo de audio\n",
        "checkContentFolder = os.path.exists(\"cargar\")\n",
        "checkDownLoadFolder = os.path.exists(\"descargar\")\n",
        "if not checkContentFolder:\n",
        "  os.mkdir(\"cargar\")\n",
        "if not checkDownLoadFolder:\n",
        "  os.mkdir(\"descargar\")"
      ],
      "metadata": {
        "id": "MVbkdrJ-NaEa"
      },
      "execution_count": null,
      "outputs": []
    },
    {
      "cell_type": "code",
      "source": [
        "#@title [02] Cargado del archivo de audio a la carpeta CARGAR e iniciar la transcripcion al idioma que indique \n",
        "import whisper\n",
        "fileNmae = \"input.mp3\"#@param {type:\"string\"}\n",
        "lang = \"es\" #@param [\"es\", \"en\"]\n",
        "model = whisper.load_model(\"base\")\n",
        "# cargar el audio\n",
        "audio = whisper.load_audio(f\"cargar/{fileNmae}\")\n",
        "audio = whisper.pad_or_trim(audio)\n",
        "mel = whisper.log_mel_spectrogram(audio).to(model.device)\n",
        "# salida del text transcrito\n",
        "options = whisper.DecodingOptions(language=lang, without_timestamps=True)\n",
        "result = whisper.decode(model, mel, options)\n",
        "print(\"\")\n",
        "print(\"------------------------------------------\")\n",
        "print(\"  RESULTADO DE LA TRANSCRIPCION\")\n",
        "print(\"------------------------------------------\")\n",
        "print(\"\")\n",
        "print(result.text)\n",
        "# Escribir el resultado a un archivo de texto\n",
        "with open(f\"descargar/{fileNmae}.txt\", \"w\") as f:\n",
        "  f.write(f\"▼ Transcripcion de {fileNmae}\\n\")\n",
        "  f.write(result.text)"
      ],
      "metadata": {
        "id": "YTLxuoSpoxBs"
      },
      "execution_count": null,
      "outputs": []
    },
    {
      "cell_type": "code",
      "source": [
        "#@title [03] Transcribir el audio a un archivo de texto\n",
        "from google.colab import files\n",
        "!zip -r download.zip download\n",
        "files.download(\"download.zip\")"
      ],
      "metadata": {
        "id": "vtUD-yRXQhPA"
      },
      "execution_count": null,
      "outputs": []
    }
  ]
}